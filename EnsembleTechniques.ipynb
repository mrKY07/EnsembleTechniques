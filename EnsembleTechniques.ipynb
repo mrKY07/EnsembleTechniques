{
  "nbformat": 4,
  "nbformat_minor": 0,
  "metadata": {
    "colab": {
      "provenance": []
    },
    "kernelspec": {
      "name": "python3",
      "display_name": "Python 3"
    },
    "language_info": {
      "name": "python"
    }
  },
  "cells": [
    {
      "cell_type": "code",
      "execution_count": null,
      "metadata": {
        "id": "TYVbQAHk62uI"
      },
      "outputs": [],
      "source": []
    },
    {
      "cell_type": "markdown",
      "source": [
        "# **Theoretical Questions**"
      ],
      "metadata": {
        "id": "qLK9au8f76d8"
      }
    },
    {
      "cell_type": "markdown",
      "source": [
        "1.Can we use Bagging for regression problems?\n",
        "\n",
        "Yes, bagging  can be used for regression problems. In regression, it works by training multiple models typically decision trees on different bootstrap samples of the data and averaging their outputs. This reduces variance and improves model stability. Unlike classification, where majority voting is used, regression uses the mean prediction from all models. An example is BaggingRegressor in scikit-learn. It helps when individual models are unstable and have high variance.\n",
        "\n"
      ],
      "metadata": {
        "id": "uyCpr5nw76gZ"
      }
    },
    {
      "cell_type": "markdown",
      "source": [
        "2.What is the difference between multiple model training and single model training?\n",
        "\n",
        "Single model training uses one algorithm and one dataset to create a model, while multiple model training involves creating several models, either through ensemble methods or on different data subsets. Multiple models can help improve accuracy and robustness. For example, Random Forest trains many decision trees and combines their outputs. Single models might be faster but often less accurate. Multiple models usually generalize better but require more resources.\n",
        "\n"
      ],
      "metadata": {
        "id": "xAiaZure76jA"
      }
    },
    {
      "cell_type": "markdown",
      "source": [
        "3.Explain the concept of feature randomness in Random Forest.\n",
        "\n",
        "In Random Forest, feature randomness means that at each split in a tree, only a random subset of features is considered instead of all features. This introduces diversity among the trees, reducing correlation and improving the ensemble's performance. It helps avoid overfitting and makes the model more robust. For example, if you have 10 features, the model might choose 3 randomly for each split. This randomness ensures that not all trees look the same.\n",
        "\n"
      ],
      "metadata": {
        "id": "rN7knHqh76lP"
      }
    },
    {
      "cell_type": "markdown",
      "source": [
        "4.What is OOB (Out-of-Bag) Score?\n",
        "\n",
        "OOB score is a performance estimate used in ensemble methods like Random Forest without needing a separate validation set. During training, each tree is built using a bootstrap sample, leaving out about one-third of the data out-of-bag. These left-out samples are used to evaluate the model. The OOB score is the average performance across all such samples. It's a convenient and unbiased way to validate the model internally.\n",
        "\n"
      ],
      "metadata": {
        "id": "36MlRtjR76nm"
      }
    },
    {
      "cell_type": "markdown",
      "source": [
        "5.How can you measure the importance of features in a Random Forest model?\n",
        "\n",
        "Feature importance in Random Forest is measured by how much each feature reduces impurity  across all trees. The model calculates how much each feature contributes to the decision-making at splits. Features used in more important splits closer to root or with larger impurity reduction are ranked higher. In scikit-learn, feature_importances_ provides these scores. You can visualize it using a bar chart to interpret which features influence predictions most."
      ],
      "metadata": {
        "id": "iXtU6uFm76rA"
      }
    },
    {
      "cell_type": "markdown",
      "source": [
        "6.Explain the working principle of a Bagging Classifier.\n",
        "\n",
        "A Bagging Classifier works by training multiple base classifiers on different bootstrap samples from the training data. Each model learns a slightly different pattern due to sampling with replacement. After training, predictions are made by majority voting among all models. This reduces overfitting and increases accuracy by combining multiple weak learners. It’s especially effective when base models are prone to high variance. An example is scikit-learn’s BaggingClassifier.\n",
        "\n"
      ],
      "metadata": {
        "id": "YnUE_pWk8tOF"
      }
    },
    {
      "cell_type": "markdown",
      "source": [
        "7.How do you evaluate a Bagging Classifier's performance?\n",
        "\n",
        "You evaluate a Bagging Classifier using standard classification metrics like accuracy, precision, recall, F1-score, and confusion matrix. Cross-validation can also be used for a more reliable estimate. Out-of-Bag score is another useful method, where unused samples during training are used for validation. This avoids the need for a separate validation set. Performance can also be visualized with ROC or precision-recall curves. Always compare it to baseline models for context.\n",
        "\n"
      ],
      "metadata": {
        "id": "lVcKy3bV863D"
      }
    },
    {
      "cell_type": "markdown",
      "source": [
        "8.How does a Bagging Regressor work?\n",
        "\n",
        "A Bagging Regressor trains multiple regression models on different bootstrap samples of the dataset. Each model  learns from a random subset with replacement. During prediction, it averages the outputs of all the regressors to get the final result. This reduces the variance and leads to more stable predictions. Like classifiers, it benefits most when individual regressors are unstable. Scikit-learn provides this as BaggingRegressor.\n",
        "\n"
      ],
      "metadata": {
        "id": "UMZX6pWZ88oU"
      }
    },
    {
      "cell_type": "markdown",
      "source": [
        "9.What is the main advantage of ensemble techniques?\n",
        "\n",
        "The main advantage of ensemble techniques is improved performance and robustness compared to single models. By combining multiple models, ensembles reduce variance, bias, or both, depending on the method. This leads to better generalization on unseen data. They are especially powerful when base models are diverse and weak individually. For example, Random Forest outperforms a single decision tree in most cases.\n",
        "\n"
      ],
      "metadata": {
        "id": "LTjFQIzt8-FD"
      }
    },
    {
      "cell_type": "markdown",
      "source": [
        "10.What is the main challenge of ensemble methods?\n",
        "\n",
        "The main challenge of ensemble methods is increased complexity and computational cost. Training and maintaining multiple models requires more memory, time, and processing power. They can also be harder to interpret compared to simple models like linear regression. In some cases, ensembles may overfit if not properly tuned. Additionally, deploying ensemble models in real-time systems can be challenging due to slower prediction times."
      ],
      "metadata": {
        "id": "Hv4ePIUL8_ek"
      }
    },
    {
      "cell_type": "markdown",
      "source": [
        "11.Explain the key idea behind ensemble techniques.\n",
        "\n",
        "The key idea behind ensemble techniques is to combine multiple models to make better predictions than any individual model could alone. It works on the principle that a group of weak learners can form a strong learner. By aggregating the outputs, ensembles reduce errors due to bias, variance, or noise. This improves accuracy, robustness, and generalization. Bagging, boosting, and stacking are common ensemble methods.\n"
      ],
      "metadata": {
        "id": "tKwHTkHo9dU0"
      }
    },
    {
      "cell_type": "markdown",
      "source": [
        "12.What is a Random Forest Classifier?\n",
        "\n",
        "A Random Forest Classifier is an ensemble method that builds multiple decision trees using different subsets of the data and features. It combines their outputs through majority voting to classify new data. It uses both bagging and feature randomness to create diverse trees. This helps reduce overfitting and improve accuracy. It is widely used for classification tasks due to its high performance and simplicity in tuning.\n",
        "\n"
      ],
      "metadata": {
        "id": "zQ2I7I1O9s3r"
      }
    },
    {
      "cell_type": "markdown",
      "source": [
        "13.What are the main types of ensemble techniques?\n",
        "\n",
        "The main types of ensemble techniques are:\n",
        "\n",
        "Bagging – trains multiple models in parallel on different data subsets (e.g., Random Forest).\n",
        "Boosting – trains models sequentially, where each model corrects the errors of the previous one (e.g., AdaBoost, XGBoost).\n",
        "Stacking – combines different models and uses a meta-model to make the final prediction.\n",
        "These methods aim to improve accuracy and robustness of predictions.\n",
        "\n"
      ],
      "metadata": {
        "id": "bUyQq8e09xOc"
      }
    },
    {
      "cell_type": "markdown",
      "source": [
        "14.What is ensemble learning in machine learning?\n",
        "\n",
        "Ensemble learning is a technique in machine learning where multiple models are combined to solve a problem and improve overall performance. Instead of relying on a single model, it leverages the strengths of many models to make better predictions. Each model contributes to the final output either equally or based on performance. It helps reduce errors and overfitting. Common examples include Random Forest, Gradient Boosting, and Voting Classifier.\n",
        "\n"
      ],
      "metadata": {
        "id": "PNEg3I2N9yn8"
      }
    },
    {
      "cell_type": "markdown",
      "source": [
        "15.When should we avoid using ensemble methods?\n",
        "\n",
        "We should avoid using ensemble methods when the dataset is small, as they may lead to overfitting and unnecessary complexity. If the base model performs well and is interpretable, an ensemble might not be worth the added computation. Ensemble models are also harder to interpret, so they’re not ideal for applications needing explainability. Additionally, if computational resources or response time is limited, simpler models are preferred.\n"
      ],
      "metadata": {
        "id": "9bwyBzt49zxD"
      }
    },
    {
      "cell_type": "markdown",
      "source": [
        "16.How does Bagging help in reducing overfitting?\n",
        "\n",
        "Bagging reduces overfitting by averaging the predictions of multiple models trained on different subsets of the data. Each model sees a slightly different view due to bootstrap sampling, making their errors less correlated. When their outputs are combined (e.g., by majority vote or averaging), random noise and overfitting tendencies cancel out. This stabilizes the final prediction. It’s especially helpful with high-variance models like decision trees."
      ],
      "metadata": {
        "id": "h9qv6g8g93Cs"
      }
    },
    {
      "cell_type": "markdown",
      "source": [
        "17.Why is Random Forest better than a single Decision Tree?\n",
        "\n",
        "Random Forest is better than a single decision tree because it reduces overfitting and improves accuracy by combining multiple trees. Each tree is trained on a different bootstrap sample with random feature selection, making them diverse. Their collective decision  is more robust and less sensitive to noise. While a single tree might perform well on training data but poorly on test data, Random Forest generalizes better. It’s also less affected by outliers."
      ],
      "metadata": {
        "id": "XepgKSkY939r"
      }
    },
    {
      "cell_type": "markdown",
      "source": [
        "18.What is the role of bootstrap sampling in Bagging?\n",
        "\n",
        "Bootstrap sampling creates multiple random datasets by sampling with replacement from the original data. Each model in the bagging ensemble is trained on one of these datasets. This introduces diversity among the models, making their individual predictions less correlated. When combined, this reduces overall variance and improves stability. For example, in Random Forest, each tree is trained on a different bootstrap sampl"
      ],
      "metadata": {
        "id": "Dj8jA2Gb97-L"
      }
    },
    {
      "cell_type": "markdown",
      "source": [
        "19.What are some real-world applications of ensemble techniques?\n",
        "\n",
        "Ensemble techniques are used in many real-world tasks that require high accuracy and robustness. In finance, they're used for credit scoring and fraud detection. In healthcare, they help with disease prediction and diagnosis. In marketing, ensembles assist in customer segmentation and churn prediction. They are also widely used in image recognition, spam detection, and recommendation systems. Models like XGBoost and Random Forest are common in Kaggle competitions and industry use.\n",
        "\n"
      ],
      "metadata": {
        "id": "JATTYo5g998r"
      }
    },
    {
      "cell_type": "markdown",
      "source": [
        "20.What is the difference between Bagging and Boosting?\n",
        "\n",
        "Bagging builds multiple models independently and combines their outputs to reduce variance, mainly using parallel training. Boosting trains models sequentially, where each model corrects the errors of the previous one, aiming to reduce both bias and variance. Bagging uses equal weight for models, while boosting gives more focus to misclassified instances. Random Forest is an example of bagging, and AdaBoost or XGBoost are examples of boosting. Boosting often gives better accuracy but is more prone to overfitting if not tuned.\n"
      ],
      "metadata": {
        "id": "X-ixhFUR9_3b"
      }
    },
    {
      "cell_type": "markdown",
      "source": [
        "# Practical Questions"
      ],
      "metadata": {
        "id": "wN-KeMco-Cyb"
      }
    },
    {
      "cell_type": "code",
      "source": [
        "from sklearn.datasets import load_iris\n",
        "from sklearn.model_selection import train_test_split\n",
        "from sklearn.ensemble import BaggingClassifier\n",
        "from sklearn.tree import DecisionTreeClassifier\n",
        "from sklearn.metrics import accuracy_score\n",
        "\n",
        "iris = load_iris()\n",
        "X, y = iris.data, iris.target\n",
        "\n",
        "X_train, X_test, y_train, y_test = train_test_split(X, y, test_size=0.3, random_state=42)\n",
        "\n",
        "model = BaggingClassifier(estimator=DecisionTreeClassifier(), n_estimators=10, random_state=42)\n",
        "model.fit(X_train, y_train)\n",
        "\n",
        "y_pred = model.predict(X_test)\n",
        "print(\"Accuracy:\", accuracy_score(y_test, y_pred))\n",
        "\n"
      ],
      "metadata": {
        "colab": {
          "base_uri": "https://localhost:8080/"
        },
        "id": "FHFAY0Db-IG7",
        "outputId": "34273075-37df-4b1d-af14-f2e823eaf0e3"
      },
      "execution_count": 2,
      "outputs": [
        {
          "output_type": "stream",
          "name": "stdout",
          "text": [
            "Accuracy: 1.0\n"
          ]
        }
      ]
    },
    {
      "cell_type": "code",
      "source": [
        "from sklearn.datasets import load_diabetes\n",
        "from sklearn.model_selection import train_test_split\n",
        "from sklearn.ensemble import BaggingRegressor\n",
        "from sklearn.tree import DecisionTreeRegressor\n",
        "from sklearn.metrics import mean_squared_error\n",
        "\n",
        "# Load data\n",
        "data = load_diabetes()\n",
        "X, y = data.data, data.target\n",
        "\n",
        "# Split data\n",
        "X_train, X_test, y_train, y_test = train_test_split(X, y, test_size=0.3, random_state=42)\n",
        "\n",
        "# Corrected Bagging Regressor\n",
        "model = BaggingRegressor(estimator=DecisionTreeRegressor(), n_estimators=10, random_state=42)\n",
        "model.fit(X_train, y_train)\n",
        "\n",
        "# Prediction and MSE\n",
        "y_pred = model.predict(X_test)\n",
        "print(\"Mean Squared Error:\", mean_squared_error(y_test, y_pred))\n"
      ],
      "metadata": {
        "colab": {
          "base_uri": "https://localhost:8080/"
        },
        "id": "4RicwIWb-hOj",
        "outputId": "cd573c07-f54c-4a9b-ca7e-ec94cee80562"
      },
      "execution_count": 4,
      "outputs": [
        {
          "output_type": "stream",
          "name": "stdout",
          "text": [
            "Mean Squared Error: 3237.526541353384\n"
          ]
        }
      ]
    },
    {
      "cell_type": "code",
      "source": [
        "from sklearn.datasets import load_breast_cancer\n",
        "from sklearn.ensemble import RandomForestClassifier\n",
        "from sklearn.model_selection import train_test_split\n",
        "\n",
        "data = load_breast_cancer()\n",
        "X, y = data.data, data.target\n",
        "\n",
        "X_train, X_test, y_train, y_test = train_test_split(X, y, test_size=0.3, random_state=42)\n",
        "\n",
        "model = RandomForestClassifier(n_estimators=100, random_state=42)\n",
        "model.fit(X_train, y_train)\n",
        "\n",
        "importances = model.feature_importances_\n",
        "for name, score in zip(data.feature_names, importances):\n",
        "    print(f\"{name}: {score:.4f}\")\n"
      ],
      "metadata": {
        "colab": {
          "base_uri": "https://localhost:8080/"
        },
        "id": "XHjgDfBt-13M",
        "outputId": "d3b108ae-fde1-4f27-9c70-70c746efb355"
      },
      "execution_count": 6,
      "outputs": [
        {
          "output_type": "stream",
          "name": "stdout",
          "text": [
            "mean radius: 0.0323\n",
            "mean texture: 0.0111\n",
            "mean perimeter: 0.0601\n",
            "mean area: 0.0538\n",
            "mean smoothness: 0.0062\n",
            "mean compactness: 0.0092\n",
            "mean concavity: 0.0806\n",
            "mean concave points: 0.1419\n",
            "mean symmetry: 0.0033\n",
            "mean fractal dimension: 0.0031\n",
            "radius error: 0.0164\n",
            "texture error: 0.0032\n",
            "perimeter error: 0.0118\n",
            "area error: 0.0295\n",
            "smoothness error: 0.0059\n",
            "compactness error: 0.0046\n",
            "concavity error: 0.0058\n",
            "concave points error: 0.0034\n",
            "symmetry error: 0.0040\n",
            "fractal dimension error: 0.0071\n",
            "worst radius: 0.0780\n",
            "worst texture: 0.0188\n",
            "worst perimeter: 0.0743\n",
            "worst area: 0.1182\n",
            "worst smoothness: 0.0118\n",
            "worst compactness: 0.0175\n",
            "worst concavity: 0.0411\n",
            "worst concave points: 0.1271\n",
            "worst symmetry: 0.0129\n",
            "worst fractal dimension: 0.0069\n"
          ]
        }
      ]
    },
    {
      "cell_type": "code",
      "source": [
        "from sklearn.datasets import load_diabetes\n",
        "from sklearn.ensemble import RandomForestRegressor\n",
        "from sklearn.tree import DecisionTreeRegressor\n",
        "from sklearn.metrics import mean_squared_error\n",
        "from sklearn.model_selection import train_test_split\n",
        "\n",
        "data = load_diabetes()\n",
        "X, y = data.data, data.target\n",
        "\n",
        "X_train, X_test, y_train, y_test = train_test_split(X, y, test_size=0.3, random_state=42)\n",
        "\n",
        "tree_model = DecisionTreeRegressor()\n",
        "tree_model.fit(X_train, y_train)\n",
        "tree_pred = tree_model.predict(X_test)\n",
        "\n",
        "forest_model = RandomForestRegressor(n_estimators=100, random_state=42)\n",
        "forest_model.fit(X_train, y_train)\n",
        "forest_pred = forest_model.predict(X_test)\n",
        "\n",
        "print(\"Decision Tree MSE:\", mean_squared_error(y_test, tree_pred))\n",
        "print(\"Random Forest MSE:\", mean_squared_error(y_test, forest_pred))\n"
      ],
      "metadata": {
        "colab": {
          "base_uri": "https://localhost:8080/"
        },
        "id": "-dumZE6C-6T8",
        "outputId": "f057ebb2-510c-4064-aad6-7a615e0aaf01"
      },
      "execution_count": 7,
      "outputs": [
        {
          "output_type": "stream",
          "name": "stdout",
          "text": [
            "Decision Tree MSE: 5033.654135338345\n",
            "Random Forest MSE: 2859.641982706767\n"
          ]
        }
      ]
    },
    {
      "cell_type": "code",
      "source": [
        "from sklearn.datasets import load_iris\n",
        "from sklearn.ensemble import RandomForestClassifier\n",
        "from sklearn.model_selection import train_test_split\n",
        "\n",
        "iris = load_iris()\n",
        "X, y = iris.data, iris.target\n",
        "\n",
        "model = RandomForestClassifier(n_estimators=100, oob_score=True, bootstrap=True, random_state=42)\n",
        "model.fit(X, y)\n",
        "\n",
        "print(\"OOB Score:\", model.oob_score_)\n"
      ],
      "metadata": {
        "colab": {
          "base_uri": "https://localhost:8080/"
        },
        "id": "yzZ8rpRQ--fU",
        "outputId": "80faa1f1-6169-4f4b-9ba3-dcc66debe716"
      },
      "execution_count": 8,
      "outputs": [
        {
          "output_type": "stream",
          "name": "stdout",
          "text": [
            "OOB Score: 0.9533333333333334\n"
          ]
        }
      ]
    },
    {
      "cell_type": "code",
      "source": [
        "from sklearn.datasets import load_iris\n",
        "from sklearn.model_selection import train_test_split\n",
        "from sklearn.ensemble import BaggingClassifier\n",
        "from sklearn.svm import SVC\n",
        "from sklearn.metrics import accuracy_score\n",
        "\n",
        "X, y = load_iris(return_X_y=True)\n",
        "\n",
        "X_train, X_test, y_train, y_test = train_test_split(X, y, test_size=0.3, random_state=42)\n",
        "\n",
        "model = BaggingClassifier(estimator=SVC(), n_estimators=10, random_state=42)\n",
        "model.fit(X_train, y_train)\n",
        "\n",
        "y_pred = model.predict(X_test)\n",
        "print(\"Accuracy:\", accuracy_score(y_test, y_pred))\n"
      ],
      "metadata": {
        "colab": {
          "base_uri": "https://localhost:8080/"
        },
        "id": "piUCDlya_JTb",
        "outputId": "77a94b28-7611-488d-dbad-502f15cf0d2f"
      },
      "execution_count": 11,
      "outputs": [
        {
          "output_type": "stream",
          "name": "stdout",
          "text": [
            "Accuracy: 1.0\n"
          ]
        }
      ]
    },
    {
      "cell_type": "code",
      "source": [
        "from sklearn.datasets import load_iris\n",
        "from sklearn.ensemble import RandomForestClassifier\n",
        "from sklearn.model_selection import train_test_split\n",
        "from sklearn.metrics import accuracy_score\n",
        "\n",
        "X, y = load_iris(return_X_y=True)\n",
        "X_train, X_test, y_train, y_test = train_test_split(X, y, test_size=0.3, random_state=42)\n",
        "\n",
        "for n in [10, 50, 100, 200]:\n",
        "    model = RandomForestClassifier(n_estimators=n, random_state=42)\n",
        "    model.fit(X_train, y_train)\n",
        "    y_pred = model.predict(X_test)\n",
        "    print(f\"n_estimators={n}, Accuracy={accuracy_score(y_test, y_pred):.4f}\")\n"
      ],
      "metadata": {
        "colab": {
          "base_uri": "https://localhost:8080/"
        },
        "id": "C9KLH2a7_Lb7",
        "outputId": "2d49146d-3c7c-4699-a1c0-08b7eace996f"
      },
      "execution_count": 10,
      "outputs": [
        {
          "output_type": "stream",
          "name": "stdout",
          "text": [
            "n_estimators=10, Accuracy=1.0000\n",
            "n_estimators=50, Accuracy=1.0000\n",
            "n_estimators=100, Accuracy=1.0000\n",
            "n_estimators=200, Accuracy=1.0000\n"
          ]
        }
      ]
    },
    {
      "cell_type": "code",
      "source": [
        "from sklearn.datasets import load_breast_cancer\n",
        "from sklearn.model_selection import train_test_split\n",
        "from sklearn.ensemble import BaggingClassifier\n",
        "from sklearn.linear_model import LogisticRegression\n",
        "from sklearn.preprocessing import StandardScaler\n",
        "from sklearn.pipeline import make_pipeline\n",
        "from sklearn.metrics import roc_auc_score\n",
        "\n",
        "X, y = load_breast_cancer(return_X_y=True)\n",
        "X_train, X_test, y_train, y_test = train_test_split(X, y, test_size=0.3, random_state=42)\n",
        "\n",
        "model = BaggingClassifier(\n",
        "    estimator=make_pipeline(StandardScaler(), LogisticRegression(max_iter=1000)),\n",
        "    n_estimators=10,\n",
        "    random_state=42\n",
        ")\n",
        "model.fit(X_train, y_train)\n",
        "\n",
        "y_prob = model.predict_proba(X_test)[:, 1]\n",
        "print(\"AUC Score:\", roc_auc_score(y_test, y_prob))\n",
        "\n"
      ],
      "metadata": {
        "colab": {
          "base_uri": "https://localhost:8080/"
        },
        "id": "ng7k8azE_NhT",
        "outputId": "33192beb-9a5a-40c6-b9e7-cb8bcd9fdbaf"
      },
      "execution_count": 13,
      "outputs": [
        {
          "output_type": "stream",
          "name": "stdout",
          "text": [
            "AUC Score: 0.9975014697236919\n"
          ]
        }
      ]
    },
    {
      "cell_type": "code",
      "source": [
        "from sklearn.datasets import load_diabetes\n",
        "from sklearn.ensemble import RandomForestRegressor\n",
        "from sklearn.model_selection import train_test_split\n",
        "\n",
        "X, y = load_diabetes(return_X_y=True)\n",
        "X_train, X_test, y_train, y_test = train_test_split(X, y, test_size=0.3, random_state=42)\n",
        "\n",
        "model = RandomForestRegressor(n_estimators=100, random_state=42)\n",
        "model.fit(X_train, y_train)\n",
        "\n",
        "for i, score in enumerate(model.feature_importances_):\n",
        "    print(f\"Feature {i}: Importance = {score:.4f}\")\n"
      ],
      "metadata": {
        "colab": {
          "base_uri": "https://localhost:8080/"
        },
        "id": "YyfNo6NG_cws",
        "outputId": "8b6e0ccb-c08f-4a93-d065-56c489b18b2e"
      },
      "execution_count": 15,
      "outputs": [
        {
          "output_type": "stream",
          "name": "stdout",
          "text": [
            "Feature 0: Importance = 0.0586\n",
            "Feature 1: Importance = 0.0111\n",
            "Feature 2: Importance = 0.4000\n",
            "Feature 3: Importance = 0.1048\n",
            "Feature 4: Importance = 0.0492\n",
            "Feature 5: Importance = 0.0471\n",
            "Feature 6: Importance = 0.0617\n",
            "Feature 7: Importance = 0.0294\n",
            "Feature 8: Importance = 0.1666\n",
            "Feature 9: Importance = 0.0714\n"
          ]
        }
      ]
    },
    {
      "cell_type": "code",
      "source": [
        "from sklearn.datasets import load_iris\n",
        "from sklearn.model_selection import train_test_split\n",
        "from sklearn.ensemble import BaggingClassifier, RandomForestClassifier\n",
        "from sklearn.tree import DecisionTreeClassifier\n",
        "from sklearn.metrics import accuracy_score\n",
        "\n",
        "X, y = load_iris(return_X_y=True)\n",
        "X_train, X_test, y_train, y_test = train_test_split(X, y, test_size=0.3, random_state=42)\n",
        "\n",
        "bag_model = BaggingClassifier(estimator=DecisionTreeClassifier(), n_estimators=10, random_state=42)\n",
        "bag_model.fit(X_train, y_train)\n",
        "bag_acc = accuracy_score(y_test, bag_model.predict(X_test))\n",
        "\n",
        "rf_model = RandomForestClassifier(n_estimators=10, random_state=42)\n",
        "rf_model.fit(X_train, y_train)\n",
        "rf_acc = accuracy_score(y_test, rf_model.predict(X_test))\n",
        "\n",
        "print(f\"Bagging Accuracy: {bag_acc:.4f}\")\n",
        "print(f\"Random Forest Accuracy: {rf_acc:.4f}\")\n"
      ],
      "metadata": {
        "colab": {
          "base_uri": "https://localhost:8080/"
        },
        "id": "o_oZDGF2_m4E",
        "outputId": "dc446ae6-cfc2-4be2-e57b-9db193500a7f"
      },
      "execution_count": 16,
      "outputs": [
        {
          "output_type": "stream",
          "name": "stdout",
          "text": [
            "Bagging Accuracy: 1.0000\n",
            "Random Forest Accuracy: 1.0000\n"
          ]
        }
      ]
    },
    {
      "cell_type": "code",
      "source": [
        "from sklearn.datasets import load_iris\n",
        "from sklearn.ensemble import RandomForestClassifier\n",
        "from sklearn.model_selection import GridSearchCV, train_test_split\n",
        "\n",
        "X, y = load_iris(return_X_y=True)\n",
        "X_train, X_test, y_train, y_test = train_test_split(X, y, test_size=0.3, random_state=42)\n",
        "\n",
        "param_grid = {\n",
        "    'n_estimators': [10, 50, 100],\n",
        "    'max_depth': [None, 3, 5]\n",
        "}\n",
        "\n",
        "model = RandomForestClassifier(random_state=42)\n",
        "grid_search = GridSearchCV(model, param_grid, cv=3)\n",
        "grid_search.fit(X_train, y_train)\n",
        "\n",
        "print(\"Best Parameters:\", grid_search.best_params_)\n",
        "print(\"Best Score:\", grid_search.best_score_)\n"
      ],
      "metadata": {
        "colab": {
          "base_uri": "https://localhost:8080/"
        },
        "id": "WP6Ma13IANS6",
        "outputId": "6f157aa2-595b-4548-e50e-30c73f44a8ef"
      },
      "execution_count": 17,
      "outputs": [
        {
          "output_type": "stream",
          "name": "stdout",
          "text": [
            "Best Parameters: {'max_depth': None, 'n_estimators': 10}\n",
            "Best Score: 0.9523809523809524\n"
          ]
        }
      ]
    },
    {
      "cell_type": "code",
      "source": [
        "from sklearn.datasets import load_diabetes\n",
        "from sklearn.ensemble import BaggingRegressor\n",
        "from sklearn.tree import DecisionTreeRegressor\n",
        "from sklearn.metrics import mean_squared_error\n",
        "from sklearn.model_selection import train_test_split\n",
        "\n",
        "X, y = load_diabetes(return_X_y=True)\n",
        "X_train, X_test, y_train, y_test = train_test_split(X, y, test_size=0.3, random_state=42)\n",
        "\n",
        "for n in [5, 10, 50, 100]:\n",
        "    model = BaggingRegressor(estimator=DecisionTreeRegressor(), n_estimators=n, random_state=42)\n",
        "    model.fit(X_train, y_train)\n",
        "    y_pred = model.predict(X_test)\n",
        "    print(f\"n_estimators={n}, MSE={mean_squared_error(y_test, y_pred):.2f}\")\n"
      ],
      "metadata": {
        "colab": {
          "base_uri": "https://localhost:8080/"
        },
        "id": "LCBdRm8LATqL",
        "outputId": "80246331-7c46-4ab9-ac5e-90a32332104f"
      },
      "execution_count": 18,
      "outputs": [
        {
          "output_type": "stream",
          "name": "stdout",
          "text": [
            "n_estimators=5, MSE=3366.72\n",
            "n_estimators=10, MSE=3237.53\n",
            "n_estimators=50, MSE=2987.01\n",
            "n_estimators=100, MSE=2908.81\n"
          ]
        }
      ]
    },
    {
      "cell_type": "code",
      "source": [
        "from sklearn.datasets import load_iris\n",
        "from sklearn.ensemble import RandomForestClassifier\n",
        "from sklearn.model_selection import train_test_split\n",
        "\n",
        "X, y = load_iris(return_X_y=True)\n",
        "X_train, X_test, y_train, y_test = train_test_split(X, y, test_size=0.3, random_state=42)\n",
        "\n",
        "model = RandomForestClassifier(random_state=42)\n",
        "model.fit(X_train, y_train)\n",
        "y_pred = model.predict(X_test)\n",
        "\n",
        "for i in range(len(y_test)):\n",
        "    if y_test[i] != y_pred[i]:\n",
        "        print(f\"Sample {i}: True={y_test[i]}, Predicted={y_pred[i]}\")\n"
      ],
      "metadata": {
        "id": "zTZsTLlIAWaz"
      },
      "execution_count": 20,
      "outputs": []
    },
    {
      "cell_type": "code",
      "source": [
        "from sklearn.datasets import load_iris\n",
        "from sklearn.ensemble import RandomForestClassifier\n",
        "from sklearn.model_selection import train_test_split\n",
        "\n",
        "X, y = load_iris(return_X_y=True)\n",
        "X_train, X_test, y_train, y_test = train_test_split(X, y, test_size=0.3, random_state=42)\n",
        "\n",
        "model = RandomForestClassifier(random_state=42)\n",
        "model.fit(X_train, y_train)\n",
        "y_pred = model.predict(X_test)\n",
        "\n",
        "for i in range(len(y_test)):\n",
        "    if y_test[i] != y_pred[i]:\n",
        "        print(f\"Sample {i}: True={y_test[i]}, Predicted={y_pred[i]}\")\n"
      ],
      "metadata": {
        "id": "CxgM1eMUAbiU"
      },
      "execution_count": 21,
      "outputs": []
    },
    {
      "cell_type": "code",
      "source": [
        "from sklearn.datasets import load_iris\n",
        "from sklearn.model_selection import train_test_split\n",
        "from sklearn.ensemble import BaggingClassifier\n",
        "from sklearn.tree import DecisionTreeClassifier\n",
        "from sklearn.metrics import accuracy_score\n",
        "\n",
        "X, y = load_iris(return_X_y=True)\n",
        "X_train, X_test, y_train, y_test = train_test_split(X, y, test_size=0.3, random_state=42)\n",
        "\n",
        "tree = DecisionTreeClassifier(random_state=42)\n",
        "tree.fit(X_train, y_train)\n",
        "tree_acc = accuracy_score(y_test, tree.predict(X_test))\n",
        "\n",
        "bag = BaggingClassifier(estimator=DecisionTreeClassifier(), n_estimators=10, random_state=42)\n",
        "bag.fit(X_train, y_train)\n",
        "bag_acc = accuracy_score(y_test, bag.predict(X_test))\n",
        "\n",
        "print(f\"Decision Tree Accuracy: {tree_acc:.4f}\")\n",
        "print(f\"Bagging Classifier Accuracy: {bag_acc:.4f}\")\n"
      ],
      "metadata": {
        "colab": {
          "base_uri": "https://localhost:8080/"
        },
        "id": "xR27gPf2AlaM",
        "outputId": "5a6434b2-b862-40c2-c09e-0f04dc2c7c89"
      },
      "execution_count": 22,
      "outputs": [
        {
          "output_type": "stream",
          "name": "stdout",
          "text": [
            "Decision Tree Accuracy: 1.0000\n",
            "Bagging Classifier Accuracy: 1.0000\n"
          ]
        }
      ]
    },
    {
      "cell_type": "code",
      "source": [
        "from sklearn.datasets import load_iris\n",
        "from sklearn.ensemble import RandomForestClassifier\n",
        "from sklearn.model_selection import train_test_split\n",
        "from sklearn.metrics import confusion_matrix\n",
        "import seaborn as sns\n",
        "import matplotlib.pyplot as plt\n",
        "\n",
        "X, y = load_iris(return_X_y=True)\n",
        "X_train, X_test, y_train, y_test = train_test_split(X, y, test_size=0.3, random_state=42)\n",
        "\n",
        "model = RandomForestClassifier(random_state=42)\n",
        "model.fit(X_train, y_train)\n",
        "y_pred = model.predict(X_test)\n",
        "\n",
        "cm = confusion_matrix(y_test, y_pred)\n",
        "sns.heatmap(cm, annot=True, fmt=\"d\", cmap=\"Blues\")\n",
        "plt.xlabel(\"Predicted\")\n",
        "plt.ylabel(\"Actual\")\n",
        "plt.title(\"Confusion Matrix\")\n",
        "plt.show()\n"
      ],
      "metadata": {
        "colab": {
          "base_uri": "https://localhost:8080/",
          "height": 472
        },
        "id": "XKVywiSnAoSs",
        "outputId": "cd064fc1-5a38-40f8-fceb-48ac46a907a1"
      },
      "execution_count": 23,
      "outputs": [
        {
          "output_type": "display_data",
          "data": {
            "text/plain": [
              "<Figure size 640x480 with 2 Axes>"
            ],
            "image/png": "[encoded data removed]"
          },
          "metadata": {}
        }
      ]
    },
    {
      "cell_type": "code",
      "source": [
        "from sklearn.datasets import load_iris\n",
        "from sklearn.model_selection import train_test_split\n",
        "from sklearn.ensemble import StackingClassifier\n",
        "from sklearn.tree import DecisionTreeClassifier\n",
        "from sklearn.svm import SVC\n",
        "from sklearn.linear_model import LogisticRegression\n",
        "from sklearn.metrics import accuracy_score\n",
        "\n",
        "X, y = load_iris(return_X_y=True)\n",
        "X_train, X_test, y_train, y_test = train_test_split(X, y, test_size=0.3, random_state=42)\n",
        "\n",
        "estimators = [\n",
        "    ('tree', DecisionTreeClassifier()),\n",
        "    ('svm', SVC(probability=True)),\n",
        "    ('logreg', LogisticRegression(max_iter=1000))\n",
        "]\n",
        "stack = StackingClassifier(estimators=estimators, final_estimator=LogisticRegression())\n",
        "\n",
        "stack.fit(X_train, y_train)\n",
        "y_pred = stack.predict(X_test)\n",
        "print(\"Stacking Classifier Accuracy:\", accuracy_score(y_test, y_pred))\n"
      ],
      "metadata": {
        "colab": {
          "base_uri": "https://localhost:8080/"
        },
        "id": "RniOnT-5BHM1",
        "outputId": "d17ee3c9-a9a8-47d6-a7e7-3e74386420ea"
      },
      "execution_count": 24,
      "outputs": [
        {
          "output_type": "stream",
          "name": "stdout",
          "text": [
            "Stacking Classifier Accuracy: 1.0\n"
          ]
        }
      ]
    },
    {
      "cell_type": "code",
      "source": [
        "from sklearn.datasets import load_iris\n",
        "from sklearn.ensemble import RandomForestClassifier\n",
        "import numpy as np\n",
        "\n",
        "X, y = load_iris(return_X_y=True)\n",
        "model = RandomForestClassifier(random_state=42)\n",
        "model.fit(X, y)\n",
        "\n",
        "importances = model.feature_importances_\n",
        "top_indices = np.argsort(importances)[-5:][::-1]\n",
        "for i in top_indices:\n",
        "    print(f\"Feature {i}: Importance = {importances[i]:.4f}\")\n"
      ],
      "metadata": {
        "colab": {
          "base_uri": "https://localhost:8080/"
        },
        "id": "gm2RMZh1BKYE",
        "outputId": "9bb4b5b8-055b-4e6c-f53e-b997456b67c8"
      },
      "execution_count": 25,
      "outputs": [
        {
          "output_type": "stream",
          "name": "stdout",
          "text": [
            "Feature 2: Importance = 0.4361\n",
            "Feature 3: Importance = 0.4361\n",
            "Feature 0: Importance = 0.1061\n",
            "Feature 1: Importance = 0.0217\n"
          ]
        }
      ]
    },
    {
      "cell_type": "code",
      "source": [
        "from sklearn.datasets import load_iris\n",
        "from sklearn.ensemble import BaggingClassifier\n",
        "from sklearn.tree import DecisionTreeClassifier\n",
        "from sklearn.metrics import precision_score, recall_score, f1_score\n",
        "from sklearn.model_selection import train_test_split\n",
        "\n",
        "X, y = load_iris(return_X_y=True)\n",
        "X_train, X_test, y_train, y_test = train_test_split(X, y, test_size=0.3, random_state=42)\n",
        "\n",
        "model = BaggingClassifier(estimator=DecisionTreeClassifier(), n_estimators=10, random_state=42)\n",
        "model.fit(X_train, y_train)\n",
        "y_pred = model.predict(X_test)\n",
        "\n",
        "print(\"Precision:\", precision_score(y_test, y_pred, average='macro'))\n",
        "print(\"Recall:\", recall_score(y_test, y_pred, average='macro'))\n",
        "print(\"F1 Score:\", f1_score(y_test, y_pred, average='macro'))\n"
      ],
      "metadata": {
        "colab": {
          "base_uri": "https://localhost:8080/"
        },
        "id": "8tUPU_gBBMMk",
        "outputId": "70392f5f-8456-4a13-fe6b-8868a582b2eb"
      },
      "execution_count": 26,
      "outputs": [
        {
          "output_type": "stream",
          "name": "stdout",
          "text": [
            "Precision: 1.0\n",
            "Recall: 1.0\n",
            "F1 Score: 1.0\n"
          ]
        }
      ]
    },
    {
      "cell_type": "code",
      "source": [
        "from sklearn.datasets import load_iris\n",
        "from sklearn.ensemble import RandomForestClassifier\n",
        "from sklearn.model_selection import train_test_split\n",
        "from sklearn.metrics import accuracy_score\n",
        "\n",
        "X, y = load_iris(return_X_y=True)\n",
        "X_train, X_test, y_train, y_test = train_test_split(X, y, test_size=0.3, random_state=42)\n",
        "\n",
        "for depth in [1, 2, 3, 5, None]:\n",
        "    model = RandomForestClassifier(max_depth=depth, random_state=42)\n",
        "    model.fit(X_train, y_train)\n",
        "    y_pred = model.predict(X_test)\n",
        "    print(f\"max_depth={depth}, Accuracy={accuracy_score(y_test, y_pred):.4f}\")\n"
      ],
      "metadata": {
        "colab": {
          "base_uri": "https://localhost:8080/"
        },
        "id": "HUcKj8AgBQEm",
        "outputId": "f8198944-7cd8-4d8a-f121-cf1a5b89c907"
      },
      "execution_count": 27,
      "outputs": [
        {
          "output_type": "stream",
          "name": "stdout",
          "text": [
            "max_depth=1, Accuracy=1.0000\n",
            "max_depth=2, Accuracy=1.0000\n",
            "max_depth=3, Accuracy=1.0000\n",
            "max_depth=5, Accuracy=1.0000\n",
            "max_depth=None, Accuracy=1.0000\n"
          ]
        }
      ]
    },
    {
      "cell_type": "code",
      "source": [
        "from sklearn.datasets import load_diabetes\n",
        "from sklearn.ensemble import BaggingRegressor\n",
        "from sklearn.tree import DecisionTreeRegressor\n",
        "from sklearn.neighbors import KNeighborsRegressor\n",
        "from sklearn.model_selection import train_test_split\n",
        "from sklearn.metrics import mean_squared_error\n",
        "\n",
        "X, y = load_diabetes(return_X_y=True)\n",
        "X_train, X_test, y_train, y_test = train_test_split(X, y, test_size=0.3, random_state=42)\n",
        "\n",
        "tree_model = BaggingRegressor(estimator=DecisionTreeRegressor(), n_estimators=10, random_state=42)\n",
        "tree_model.fit(X_train, y_train)\n",
        "tree_mse = mean_squared_error(y_test, tree_model.predict(X_test))\n",
        "\n",
        "knn_model = BaggingRegressor(estimator=KNeighborsRegressor(), n_estimators=10, random_state=42)\n",
        "knn_model.fit(X_train, y_train)\n",
        "knn_mse = mean_squared_error(y_test, knn_model.predict(X_test))\n",
        "\n",
        "print(f\"Decision Tree MSE: {tree_mse:.2f}\")\n",
        "print(f\"KNeighbors MSE: {knn_mse:.2f}\")\n"
      ],
      "metadata": {
        "colab": {
          "base_uri": "https://localhost:8080/"
        },
        "id": "5AB8qOutBUQb",
        "outputId": "efa79c4d-9281-4dd2-c346-11f8c72bf00e"
      },
      "execution_count": 28,
      "outputs": [
        {
          "output_type": "stream",
          "name": "stdout",
          "text": [
            "Decision Tree MSE: 3237.53\n",
            "KNeighbors MSE: 3245.51\n"
          ]
        }
      ]
    },
    {
      "cell_type": "code",
      "source": [
        "from sklearn.datasets import load_breast_cancer\n",
        "from sklearn.ensemble import RandomForestClassifier\n",
        "from sklearn.model_selection import train_test_split\n",
        "from sklearn.metrics import roc_auc_score\n",
        "\n",
        "X, y = load_breast_cancer(return_X_y=True)\n",
        "X_train, X_test, y_train, y_test = train_test_split(X, y, test_size=0.3, random_state=42)\n",
        "\n",
        "model = RandomForestClassifier(random_state=42)\n",
        "model.fit(X_train, y_train)\n",
        "y_prob = model.predict_proba(X_test)[:, 1]\n",
        "\n",
        "print(\"ROC-AUC Score:\", roc_auc_score(y_test, y_prob))\n"
      ],
      "metadata": {
        "colab": {
          "base_uri": "https://localhost:8080/"
        },
        "id": "uwDwdgJ-BVmn",
        "outputId": "6909655f-2856-40cb-9911-92611549f20f"
      },
      "execution_count": 29,
      "outputs": [
        {
          "output_type": "stream",
          "name": "stdout",
          "text": [
            "ROC-AUC Score: 0.9968400940623163\n"
          ]
        }
      ]
    },
    {
      "cell_type": "code",
      "source": [
        "from sklearn.datasets import load_iris\n",
        "from sklearn.ensemble import BaggingClassifier\n",
        "from sklearn.tree import DecisionTreeClassifier\n",
        "from sklearn.model_selection import cross_val_score\n",
        "\n",
        "X, y = load_iris(return_X_y=True)\n",
        "\n",
        "model = BaggingClassifier(estimator=DecisionTreeClassifier(), n_estimators=10, random_state=42)\n",
        "scores = cross_val_score(model, X, y, cv=5)\n",
        "\n",
        "print(\"Cross-validation Accuracy Scores:\", scores)\n",
        "print(\"Average Accuracy:\", scores.mean())\n"
      ],
      "metadata": {
        "colab": {
          "base_uri": "https://localhost:8080/"
        },
        "id": "pLzIn_iiBrUb",
        "outputId": "386ddd69-743f-4b07-fa53-99f9bdfd6f3a"
      },
      "execution_count": 30,
      "outputs": [
        {
          "output_type": "stream",
          "name": "stdout",
          "text": [
            "Cross-validation Accuracy Scores: [0.96666667 0.96666667 0.9        0.93333333 1.        ]\n",
            "Average Accuracy: 0.9533333333333334\n"
          ]
        }
      ]
    },
    {
      "cell_type": "code",
      "source": [
        "from sklearn.datasets import load_breast_cancer\n",
        "from sklearn.ensemble import RandomForestClassifier\n",
        "from sklearn.model_selection import train_test_split\n",
        "from sklearn.metrics import precision_recall_curve\n",
        "import matplotlib.pyplot as plt\n",
        "\n",
        "X, y = load_breast_cancer(return_X_y=True)\n",
        "X_train, X_test, y_train, y_test = train_test_split(X, y, test_size=0.3, random_state=42)\n",
        "\n",
        "model = RandomForestClassifier(random_state=42)\n",
        "model.fit(X_train, y_train)\n",
        "y_scores = model.predict_proba(X_test)[:, 1]\n",
        "\n",
        "precision, recall, _ = precision_recall_curve(y_test, y_scores)\n",
        "\n",
        "plt.plot(recall, precision, marker='.')\n",
        "plt.xlabel('Recall')\n",
        "plt.ylabel('Precision')\n",
        "plt.title('Precision-Recall Curve')\n",
        "plt.grid()\n",
        "plt.show()\n"
      ],
      "metadata": {
        "colab": {
          "base_uri": "https://localhost:8080/",
          "height": 472
        },
        "id": "0HYGuhamBuCU",
        "outputId": "29077d9e-ab06-46c2-e05a-22999e0d27ea"
      },
      "execution_count": 31,
      "outputs": [
        {
          "output_type": "display_data",
          "data": {
            "text/plain": [
              "<Figure size 640x480 with 1 Axes>"
            ],
            "image/png": "[encoded data removed]"
          },
          "metadata": {}
        }
      ]
    },
    {
      "cell_type": "code",
      "source": [
        "from sklearn.datasets import load_iris\n",
        "from sklearn.model_selection import train_test_split\n",
        "from sklearn.ensemble import StackingClassifier, RandomForestClassifier\n",
        "from sklearn.linear_model import LogisticRegression\n",
        "from sklearn.metrics import accuracy_score\n",
        "\n",
        "X, y = load_iris(return_X_y=True)\n",
        "X_train, X_test, y_train, y_test = train_test_split(X, y, test_size=0.3, random_state=42)\n",
        "\n",
        "estimators = [('rf', RandomForestClassifier(n_estimators=10, random_state=42))]\n",
        "stack_model = StackingClassifier(estimators=estimators, final_estimator=LogisticRegression(max_iter=1000))\n",
        "stack_model.fit(X_train, y_train)\n",
        "\n",
        "\n",
        "y_pred = stack_model.predict(X_test)\n",
        "print(\"Stacking Classifier Accuracy:\", accuracy_score(y_test, y_pred))\n"
      ],
      "metadata": {
        "colab": {
          "base_uri": "https://localhost:8080/"
        },
        "id": "-YoSDuymBvyk",
        "outputId": "37e54a27-2916-4b62-c385-d612fa55bdfb"
      },
      "execution_count": 32,
      "outputs": [
        {
          "output_type": "stream",
          "name": "stdout",
          "text": [
            "Stacking Classifier Accuracy: 1.0\n"
          ]
        }
      ]
    },
    {
      "cell_type": "code",
      "source": [
        "from sklearn.datasets import load_diabetes\n",
        "from sklearn.ensemble import BaggingRegressor\n",
        "from sklearn.tree import DecisionTreeRegressor\n",
        "from sklearn.model_selection import train_test_split\n",
        "from sklearn.metrics import mean_squared_error\n",
        "\n",
        "X, y = load_diabetes(return_X_y=True)\n",
        "X_train, X_test, y_train, y_test = train_test_split(X, y, test_size=0.3, random_state=42)\n",
        "\n",
        "for sample_size in [0.3, 0.5, 0.7, 1.0]:\n",
        "    model = BaggingRegressor(estimator=DecisionTreeRegressor(), n_estimators=10, max_samples=sample_size, random_state=42)\n",
        "    model.fit(X_train, y_train)\n",
        "    y_pred = model.predict(X_test)\n",
        "    print(f\"max_samples={sample_size}, MSE={mean_squared_error(y_test, y_pred):.2f}\")\n"
      ],
      "metadata": {
        "colab": {
          "base_uri": "https://localhost:8080/"
        },
        "id": "6_pZAYOPBwo2",
        "outputId": "1c64e3f0-4fac-4432-8e4d-e9afa08f72d2"
      },
      "execution_count": 33,
      "outputs": [
        {
          "output_type": "stream",
          "name": "stdout",
          "text": [
            "max_samples=0.3, MSE=2975.47\n",
            "max_samples=0.5, MSE=3163.30\n",
            "max_samples=0.7, MSE=3042.46\n",
            "max_samples=1.0, MSE=3237.53\n"
          ]
        }
      ]
    }
  ]
}